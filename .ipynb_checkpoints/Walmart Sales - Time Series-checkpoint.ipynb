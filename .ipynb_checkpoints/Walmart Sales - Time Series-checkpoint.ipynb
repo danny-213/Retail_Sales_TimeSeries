{
 "cells": [
  {
   "cell_type": "markdown",
   "id": "c7468b1a",
   "metadata": {},
   "source": [
    "# Brief"
   ]
  },
  {
   "cell_type": "markdown",
   "id": "c8e44b51",
   "metadata": {},
   "source": [
    "This file is refering to a detailed analysis by <a href=\"https://www.kaggle.com/code/afi1289/walmart-sales-forecast-eda-forecasting#Time-Series-Assumptions-(In-process)\">AHMAD ALISMAIL</a>\n",
    "\n",
    "I also applied some of Measuring KPI techniques, Oldschool Statistical Model from Nicholas Vandeput's Data Science for Supply Chain for more insights about demand forecasting.\n",
    "\n",
    "### 1. Problem:\n",
    "There are many seasons that sales are significantly higher or lower than averages. If the company does not know about these seasons, it can lose too much money. Predicting future sales is one of the most crucial plans for a company. Sales forecasting gives an idea to the company for arranging stocks, calculating revenue, and deciding to make a new investment. Another advantage of knowing future sales is that achieving predetermined targets from the beginning of the seasons can have a positive effect on stock prices and investors' perceptions. Also, not reaching the projected target could significantly damage stock prices, conversely. And, it will be a big problem especially for Walmart as a big company.\n",
    "\n",
    "### 2. Plan:\n",
    "Understanding, Cleaning and Exploring Data\n",
    "\n",
    "Preparing Data to Modeling\n",
    "\n",
    "Random Forest Regressor\n",
    "\n",
    "ARIMA/ExponentialSmooting/ARCH Models\n",
    "\n",
    "### 3. Metric:\n",
    "The metric of the competition is weighted mean absolute error (WMAE). Weight of the error changes when it is holiday.\n",
    "\n",
    "<em>Understanding, Cleaning and Exploring Data:</em> The first challange of this data is that there are too much seasonal effects on sales. Some departments have higher sales in some seasons but on average the best departments are different. To analyze these effects, data divided weeks of the year and also holiday dates categorized.\n",
    "\n",
    "<em>Preparing Data to Modeling:</em>  Boolean and string features encoded and whole columns encoded.\n",
    "\n",
    "<em>Random Forest Regressor:</em>  Feature selection was done according to feature importance and as a best result 1801 error found.\n",
    "\n",
    "<em>ARIMA/ExponentialSmooting/ARCH Models:</em>  Second challenge in this data is that it is not stationary. To make data more stationary taking difference,log and shift techniques applied. The least error was found with ExponentialSmooting as 821.\n",
    "\n"
   ]
  },
  {
   "cell_type": "markdown",
   "id": "226fcaab",
   "metadata": {},
   "source": [
    "# Import library & files"
   ]
  },
  {
   "cell_type": "code",
   "execution_count": 1,
   "id": "ada27ae9",
   "metadata": {},
   "outputs": [],
   "source": [
    "# Importing the necesary libraries\n",
    "\n",
    "import pandas as pd\n",
    "import numpy as np\n",
    "import matplotlib.pyplot as plt"
   ]
  },
  {
   "cell_type": "code",
   "execution_count": 2,
   "id": "2b26d401",
   "metadata": {},
   "outputs": [],
   "source": [
    "# read the data\n",
    "df_train = pd.read_csv(\"train.csv\")\n",
    "df_store = pd.read_csv(\"stores.csv\")\n",
    "df_features = pd.read_csv(\"features.csv\")"
   ]
  },
  {
   "cell_type": "markdown",
   "id": "748f303d",
   "metadata": {},
   "source": [
    "1. `train.csv`: This is the historical training data, which covers 2 years (2010–02–05 to 2012–11–01). Within this file you will find the following fields:\n",
    "\n",
    "    - `Store`: The store number\n",
    "    - `Dept`: The department number\n",
    "    - `Date`: The first day of the week\n",
    "    - `Weekly_Sales`: Sales for the given department in the given store\n",
    "    - `IsHoliday`: Whether the week is a special holiday week\n",
    "\n",
    "\n",
    "2. `features.csv`: This file contains additional data related to the store, department, and regional activity for the given dates. It contains the following fields:\n",
    "\n",
    "    - `Store`: The store number\n",
    "    - `Date`: The first day of the week\n",
    "    - `Temperature`: Average temperature in the region (Fahrenheit)\n",
    "    - `Fuel_Price`: Cost of fuel in the region\n",
    "    - `MarkDown1`: Anonymized data related to promotional markdowns that Walmart is running\n",
    "    - `MarkDown2`: Anonymized data related to promotional markdowns that Walmart is running\n",
    "    - `MarkDown3`: Anonymized data related to promotional markdowns that Walmart is running\n",
    "    - `MarkDown4`: Anonymized data related to promotional markdowns that Walmart is running\n",
    "    - `MarkDown5`: Anonymized data related to promotional markdowns that Walmart is running\n",
    "    - `IsHoliday`: Whether the week is a special holiday week\n",
    "    - `CPI`: The consumer price index. It measures the monthly changes in prices paid by US consumers\n",
    "\n",
    "\n",
    "3. `stores.csv`: This file contains anonymized information about the 45 stores, indicating the type and size of the store:\n",
    "\n",
    "    - `Store`: Stores numbered from 1 to 45\n",
    "    - `Type`: Store type has been provided, there are 3 types — A, B and C\n",
    "    - `Size`: Stores size has provided"
   ]
  },
  {
   "cell_type": "markdown",
   "id": "a18839c2",
   "metadata": {},
   "source": [
    "## Data summary"
   ]
  },
  {
   "cell_type": "code",
   "execution_count": 4,
   "id": "376618a4",
   "metadata": {},
   "outputs": [
    {
     "data": {
      "text/html": [
       "<div>\n",
       "<style scoped>\n",
       "    .dataframe tbody tr th:only-of-type {\n",
       "        vertical-align: middle;\n",
       "    }\n",
       "\n",
       "    .dataframe tbody tr th {\n",
       "        vertical-align: top;\n",
       "    }\n",
       "\n",
       "    .dataframe thead th {\n",
       "        text-align: right;\n",
       "    }\n",
       "</style>\n",
       "<table border=\"1\" class=\"dataframe\">\n",
       "  <thead>\n",
       "    <tr style=\"text-align: right;\">\n",
       "      <th></th>\n",
       "      <th>Store</th>\n",
       "      <th>Dept</th>\n",
       "      <th>Date</th>\n",
       "      <th>Weekly_Sales</th>\n",
       "      <th>IsHoliday</th>\n",
       "    </tr>\n",
       "  </thead>\n",
       "  <tbody>\n",
       "    <tr>\n",
       "      <th>0</th>\n",
       "      <td>1</td>\n",
       "      <td>1</td>\n",
       "      <td>2010-02-05</td>\n",
       "      <td>24924.50</td>\n",
       "      <td>False</td>\n",
       "    </tr>\n",
       "    <tr>\n",
       "      <th>1</th>\n",
       "      <td>1</td>\n",
       "      <td>1</td>\n",
       "      <td>2010-02-12</td>\n",
       "      <td>46039.49</td>\n",
       "      <td>True</td>\n",
       "    </tr>\n",
       "    <tr>\n",
       "      <th>2</th>\n",
       "      <td>1</td>\n",
       "      <td>1</td>\n",
       "      <td>2010-02-19</td>\n",
       "      <td>41595.55</td>\n",
       "      <td>False</td>\n",
       "    </tr>\n",
       "    <tr>\n",
       "      <th>3</th>\n",
       "      <td>1</td>\n",
       "      <td>1</td>\n",
       "      <td>2010-02-26</td>\n",
       "      <td>19403.54</td>\n",
       "      <td>False</td>\n",
       "    </tr>\n",
       "    <tr>\n",
       "      <th>4</th>\n",
       "      <td>1</td>\n",
       "      <td>1</td>\n",
       "      <td>2010-03-05</td>\n",
       "      <td>21827.90</td>\n",
       "      <td>False</td>\n",
       "    </tr>\n",
       "  </tbody>\n",
       "</table>\n",
       "</div>"
      ],
      "text/plain": [
       "   Store  Dept        Date  Weekly_Sales  IsHoliday\n",
       "0      1     1  2010-02-05      24924.50      False\n",
       "1      1     1  2010-02-12      46039.49       True\n",
       "2      1     1  2010-02-19      41595.55      False\n",
       "3      1     1  2010-02-26      19403.54      False\n",
       "4      1     1  2010-03-05      21827.90      False"
      ]
     },
     "execution_count": 4,
     "metadata": {},
     "output_type": "execute_result"
    }
   ],
   "source": [
    "df_train.head()"
   ]
  },
  {
   "cell_type": "code",
   "execution_count": 5,
   "id": "9d479795",
   "metadata": {},
   "outputs": [
    {
     "data": {
      "text/html": [
       "<div>\n",
       "<style scoped>\n",
       "    .dataframe tbody tr th:only-of-type {\n",
       "        vertical-align: middle;\n",
       "    }\n",
       "\n",
       "    .dataframe tbody tr th {\n",
       "        vertical-align: top;\n",
       "    }\n",
       "\n",
       "    .dataframe thead th {\n",
       "        text-align: right;\n",
       "    }\n",
       "</style>\n",
       "<table border=\"1\" class=\"dataframe\">\n",
       "  <thead>\n",
       "    <tr style=\"text-align: right;\">\n",
       "      <th></th>\n",
       "      <th>Store</th>\n",
       "      <th>Type</th>\n",
       "      <th>Size</th>\n",
       "    </tr>\n",
       "  </thead>\n",
       "  <tbody>\n",
       "    <tr>\n",
       "      <th>0</th>\n",
       "      <td>1</td>\n",
       "      <td>A</td>\n",
       "      <td>151315</td>\n",
       "    </tr>\n",
       "    <tr>\n",
       "      <th>1</th>\n",
       "      <td>2</td>\n",
       "      <td>A</td>\n",
       "      <td>202307</td>\n",
       "    </tr>\n",
       "    <tr>\n",
       "      <th>2</th>\n",
       "      <td>3</td>\n",
       "      <td>B</td>\n",
       "      <td>37392</td>\n",
       "    </tr>\n",
       "    <tr>\n",
       "      <th>3</th>\n",
       "      <td>4</td>\n",
       "      <td>A</td>\n",
       "      <td>205863</td>\n",
       "    </tr>\n",
       "    <tr>\n",
       "      <th>4</th>\n",
       "      <td>5</td>\n",
       "      <td>B</td>\n",
       "      <td>34875</td>\n",
       "    </tr>\n",
       "  </tbody>\n",
       "</table>\n",
       "</div>"
      ],
      "text/plain": [
       "   Store Type    Size\n",
       "0      1    A  151315\n",
       "1      2    A  202307\n",
       "2      3    B   37392\n",
       "3      4    A  205863\n",
       "4      5    B   34875"
      ]
     },
     "execution_count": 5,
     "metadata": {},
     "output_type": "execute_result"
    }
   ],
   "source": [
    "df_store.head()"
   ]
  },
  {
   "cell_type": "code",
   "execution_count": 6,
   "id": "ce700ee9",
   "metadata": {},
   "outputs": [
    {
     "data": {
      "text/html": [
       "<div>\n",
       "<style scoped>\n",
       "    .dataframe tbody tr th:only-of-type {\n",
       "        vertical-align: middle;\n",
       "    }\n",
       "\n",
       "    .dataframe tbody tr th {\n",
       "        vertical-align: top;\n",
       "    }\n",
       "\n",
       "    .dataframe thead th {\n",
       "        text-align: right;\n",
       "    }\n",
       "</style>\n",
       "<table border=\"1\" class=\"dataframe\">\n",
       "  <thead>\n",
       "    <tr style=\"text-align: right;\">\n",
       "      <th></th>\n",
       "      <th>Store</th>\n",
       "      <th>Date</th>\n",
       "      <th>Temperature</th>\n",
       "      <th>Fuel_Price</th>\n",
       "      <th>MarkDown1</th>\n",
       "      <th>MarkDown2</th>\n",
       "      <th>MarkDown3</th>\n",
       "      <th>MarkDown4</th>\n",
       "      <th>MarkDown5</th>\n",
       "      <th>CPI</th>\n",
       "      <th>Unemployment</th>\n",
       "      <th>IsHoliday</th>\n",
       "    </tr>\n",
       "  </thead>\n",
       "  <tbody>\n",
       "    <tr>\n",
       "      <th>0</th>\n",
       "      <td>1</td>\n",
       "      <td>2010-02-05</td>\n",
       "      <td>42.31</td>\n",
       "      <td>2.572</td>\n",
       "      <td>NaN</td>\n",
       "      <td>NaN</td>\n",
       "      <td>NaN</td>\n",
       "      <td>NaN</td>\n",
       "      <td>NaN</td>\n",
       "      <td>211.096358</td>\n",
       "      <td>8.106</td>\n",
       "      <td>False</td>\n",
       "    </tr>\n",
       "    <tr>\n",
       "      <th>1</th>\n",
       "      <td>1</td>\n",
       "      <td>2010-02-12</td>\n",
       "      <td>38.51</td>\n",
       "      <td>2.548</td>\n",
       "      <td>NaN</td>\n",
       "      <td>NaN</td>\n",
       "      <td>NaN</td>\n",
       "      <td>NaN</td>\n",
       "      <td>NaN</td>\n",
       "      <td>211.242170</td>\n",
       "      <td>8.106</td>\n",
       "      <td>True</td>\n",
       "    </tr>\n",
       "    <tr>\n",
       "      <th>2</th>\n",
       "      <td>1</td>\n",
       "      <td>2010-02-19</td>\n",
       "      <td>39.93</td>\n",
       "      <td>2.514</td>\n",
       "      <td>NaN</td>\n",
       "      <td>NaN</td>\n",
       "      <td>NaN</td>\n",
       "      <td>NaN</td>\n",
       "      <td>NaN</td>\n",
       "      <td>211.289143</td>\n",
       "      <td>8.106</td>\n",
       "      <td>False</td>\n",
       "    </tr>\n",
       "    <tr>\n",
       "      <th>3</th>\n",
       "      <td>1</td>\n",
       "      <td>2010-02-26</td>\n",
       "      <td>46.63</td>\n",
       "      <td>2.561</td>\n",
       "      <td>NaN</td>\n",
       "      <td>NaN</td>\n",
       "      <td>NaN</td>\n",
       "      <td>NaN</td>\n",
       "      <td>NaN</td>\n",
       "      <td>211.319643</td>\n",
       "      <td>8.106</td>\n",
       "      <td>False</td>\n",
       "    </tr>\n",
       "    <tr>\n",
       "      <th>4</th>\n",
       "      <td>1</td>\n",
       "      <td>2010-03-05</td>\n",
       "      <td>46.50</td>\n",
       "      <td>2.625</td>\n",
       "      <td>NaN</td>\n",
       "      <td>NaN</td>\n",
       "      <td>NaN</td>\n",
       "      <td>NaN</td>\n",
       "      <td>NaN</td>\n",
       "      <td>211.350143</td>\n",
       "      <td>8.106</td>\n",
       "      <td>False</td>\n",
       "    </tr>\n",
       "  </tbody>\n",
       "</table>\n",
       "</div>"
      ],
      "text/plain": [
       "   Store        Date  Temperature  Fuel_Price  MarkDown1  MarkDown2  \\\n",
       "0      1  2010-02-05        42.31       2.572        NaN        NaN   \n",
       "1      1  2010-02-12        38.51       2.548        NaN        NaN   \n",
       "2      1  2010-02-19        39.93       2.514        NaN        NaN   \n",
       "3      1  2010-02-26        46.63       2.561        NaN        NaN   \n",
       "4      1  2010-03-05        46.50       2.625        NaN        NaN   \n",
       "\n",
       "   MarkDown3  MarkDown4  MarkDown5         CPI  Unemployment  IsHoliday  \n",
       "0        NaN        NaN        NaN  211.096358         8.106      False  \n",
       "1        NaN        NaN        NaN  211.242170         8.106       True  \n",
       "2        NaN        NaN        NaN  211.289143         8.106      False  \n",
       "3        NaN        NaN        NaN  211.319643         8.106      False  \n",
       "4        NaN        NaN        NaN  211.350143         8.106      False  "
      ]
     },
     "execution_count": 6,
     "metadata": {},
     "output_type": "execute_result"
    }
   ],
   "source": [
    "df_features.head()"
   ]
  },
  {
   "cell_type": "code",
   "execution_count": 13,
   "id": "4d535af4",
   "metadata": {},
   "outputs": [
    {
     "data": {
      "text/plain": [
       "((10244, 5), (45, 3), (8190, 12))"
      ]
     },
     "execution_count": 13,
     "metadata": {},
     "output_type": "execute_result"
    }
   ],
   "source": [
    "# check dataframe shape\n",
    "df_train.shape, df_store.shape, df_features.shape"
   ]
  },
  {
   "cell_type": "code",
   "execution_count": 3,
   "id": "f9c3de61",
   "metadata": {},
   "outputs": [
    {
     "data": {
      "text/html": [
       "<div>\n",
       "<style scoped>\n",
       "    .dataframe tbody tr th:only-of-type {\n",
       "        vertical-align: middle;\n",
       "    }\n",
       "\n",
       "    .dataframe tbody tr th {\n",
       "        vertical-align: top;\n",
       "    }\n",
       "\n",
       "    .dataframe thead th {\n",
       "        text-align: right;\n",
       "    }\n",
       "</style>\n",
       "<table border=\"1\" class=\"dataframe\">\n",
       "  <thead>\n",
       "    <tr style=\"text-align: right;\">\n",
       "      <th></th>\n",
       "      <th>Store</th>\n",
       "      <th>Dept</th>\n",
       "      <th>Date</th>\n",
       "      <th>Weekly_Sales</th>\n",
       "      <th>IsHoliday</th>\n",
       "      <th>Temperature</th>\n",
       "      <th>Fuel_Price</th>\n",
       "      <th>MarkDown1</th>\n",
       "      <th>MarkDown2</th>\n",
       "      <th>MarkDown3</th>\n",
       "      <th>MarkDown4</th>\n",
       "      <th>MarkDown5</th>\n",
       "      <th>CPI</th>\n",
       "      <th>Unemployment</th>\n",
       "      <th>Type</th>\n",
       "      <th>Size</th>\n",
       "    </tr>\n",
       "  </thead>\n",
       "  <tbody>\n",
       "    <tr>\n",
       "      <th>0</th>\n",
       "      <td>1</td>\n",
       "      <td>1</td>\n",
       "      <td>2010-02-05</td>\n",
       "      <td>24924.50</td>\n",
       "      <td>False</td>\n",
       "      <td>42.31</td>\n",
       "      <td>2.572</td>\n",
       "      <td>NaN</td>\n",
       "      <td>NaN</td>\n",
       "      <td>NaN</td>\n",
       "      <td>NaN</td>\n",
       "      <td>NaN</td>\n",
       "      <td>211.096358</td>\n",
       "      <td>8.106</td>\n",
       "      <td>A</td>\n",
       "      <td>151315</td>\n",
       "    </tr>\n",
       "    <tr>\n",
       "      <th>1</th>\n",
       "      <td>1</td>\n",
       "      <td>2</td>\n",
       "      <td>2010-02-05</td>\n",
       "      <td>50605.27</td>\n",
       "      <td>False</td>\n",
       "      <td>42.31</td>\n",
       "      <td>2.572</td>\n",
       "      <td>NaN</td>\n",
       "      <td>NaN</td>\n",
       "      <td>NaN</td>\n",
       "      <td>NaN</td>\n",
       "      <td>NaN</td>\n",
       "      <td>211.096358</td>\n",
       "      <td>8.106</td>\n",
       "      <td>A</td>\n",
       "      <td>151315</td>\n",
       "    </tr>\n",
       "    <tr>\n",
       "      <th>2</th>\n",
       "      <td>1</td>\n",
       "      <td>3</td>\n",
       "      <td>2010-02-05</td>\n",
       "      <td>13740.12</td>\n",
       "      <td>False</td>\n",
       "      <td>42.31</td>\n",
       "      <td>2.572</td>\n",
       "      <td>NaN</td>\n",
       "      <td>NaN</td>\n",
       "      <td>NaN</td>\n",
       "      <td>NaN</td>\n",
       "      <td>NaN</td>\n",
       "      <td>211.096358</td>\n",
       "      <td>8.106</td>\n",
       "      <td>A</td>\n",
       "      <td>151315</td>\n",
       "    </tr>\n",
       "    <tr>\n",
       "      <th>3</th>\n",
       "      <td>1</td>\n",
       "      <td>4</td>\n",
       "      <td>2010-02-05</td>\n",
       "      <td>39954.04</td>\n",
       "      <td>False</td>\n",
       "      <td>42.31</td>\n",
       "      <td>2.572</td>\n",
       "      <td>NaN</td>\n",
       "      <td>NaN</td>\n",
       "      <td>NaN</td>\n",
       "      <td>NaN</td>\n",
       "      <td>NaN</td>\n",
       "      <td>211.096358</td>\n",
       "      <td>8.106</td>\n",
       "      <td>A</td>\n",
       "      <td>151315</td>\n",
       "    </tr>\n",
       "    <tr>\n",
       "      <th>4</th>\n",
       "      <td>1</td>\n",
       "      <td>5</td>\n",
       "      <td>2010-02-05</td>\n",
       "      <td>32229.38</td>\n",
       "      <td>False</td>\n",
       "      <td>42.31</td>\n",
       "      <td>2.572</td>\n",
       "      <td>NaN</td>\n",
       "      <td>NaN</td>\n",
       "      <td>NaN</td>\n",
       "      <td>NaN</td>\n",
       "      <td>NaN</td>\n",
       "      <td>211.096358</td>\n",
       "      <td>8.106</td>\n",
       "      <td>A</td>\n",
       "      <td>151315</td>\n",
       "    </tr>\n",
       "  </tbody>\n",
       "</table>\n",
       "</div>"
      ],
      "text/plain": [
       "   Store  Dept        Date  Weekly_Sales  IsHoliday  Temperature  Fuel_Price  \\\n",
       "0      1     1  2010-02-05      24924.50      False        42.31       2.572   \n",
       "1      1     2  2010-02-05      50605.27      False        42.31       2.572   \n",
       "2      1     3  2010-02-05      13740.12      False        42.31       2.572   \n",
       "3      1     4  2010-02-05      39954.04      False        42.31       2.572   \n",
       "4      1     5  2010-02-05      32229.38      False        42.31       2.572   \n",
       "\n",
       "   MarkDown1  MarkDown2  MarkDown3  MarkDown4  MarkDown5         CPI  \\\n",
       "0        NaN        NaN        NaN        NaN        NaN  211.096358   \n",
       "1        NaN        NaN        NaN        NaN        NaN  211.096358   \n",
       "2        NaN        NaN        NaN        NaN        NaN  211.096358   \n",
       "3        NaN        NaN        NaN        NaN        NaN  211.096358   \n",
       "4        NaN        NaN        NaN        NaN        NaN  211.096358   \n",
       "\n",
       "   Unemployment Type    Size  \n",
       "0         8.106    A  151315  \n",
       "1         8.106    A  151315  \n",
       "2         8.106    A  151315  \n",
       "3         8.106    A  151315  \n",
       "4         8.106    A  151315  "
      ]
     },
     "execution_count": 3,
     "metadata": {},
     "output_type": "execute_result"
    }
   ],
   "source": [
    "# Merging df_train with df_features on 'Store', 'Date' and then with df_store on 'Store' Number.\n",
    "df = df_train.merge(df_features, on=['Store', 'Date'], how='inner').merge(df_store, on=['Store'], how='inner')\n",
    "\n",
    "# removing dublicated column\n",
    "df.drop(['IsHoliday_y'], axis=1,inplace=True) \n",
    "# rename the column\n",
    "df.rename(columns={'IsHoliday_x':'IsHoliday'},inplace=True) \n",
    "\n",
    "df.head(5)\n"
   ]
  },
  {
   "cell_type": "code",
   "execution_count": 34,
   "id": "a1e293e0",
   "metadata": {},
   "outputs": [
    {
     "data": {
      "text/plain": [
       "Store               45\n",
       "Dept                81\n",
       "Date               143\n",
       "Weekly_Sales    359464\n",
       "IsHoliday            2\n",
       "Temperature       3528\n",
       "Fuel_Price         892\n",
       "MarkDown1         2277\n",
       "MarkDown2         1499\n",
       "MarkDown3         1662\n",
       "MarkDown4         1944\n",
       "MarkDown5         2293\n",
       "CPI               2145\n",
       "Unemployment       349\n",
       "Type                 3\n",
       "Size                40\n",
       "dtype: int64"
      ]
     },
     "execution_count": 34,
     "metadata": {},
     "output_type": "execute_result"
    }
   ],
   "source": [
    "# Check out the number of unique values\n",
    "df.nunique()"
   ]
  },
  {
   "cell_type": "code",
   "execution_count": 35,
   "id": "2b111bc6",
   "metadata": {},
   "outputs": [
    {
     "name": "stdout",
     "output_type": "stream",
     "text": [
      "<class 'pandas.core.frame.DataFrame'>\n",
      "Int64Index: 421570 entries, 0 to 421569\n",
      "Data columns (total 16 columns):\n",
      " #   Column        Non-Null Count   Dtype  \n",
      "---  ------        --------------   -----  \n",
      " 0   Store         421570 non-null  int64  \n",
      " 1   Dept          421570 non-null  int64  \n",
      " 2   Date          421570 non-null  object \n",
      " 3   Weekly_Sales  421570 non-null  float64\n",
      " 4   IsHoliday     421570 non-null  bool   \n",
      " 5   Temperature   421570 non-null  float64\n",
      " 6   Fuel_Price    421570 non-null  float64\n",
      " 7   MarkDown1     150681 non-null  float64\n",
      " 8   MarkDown2     111248 non-null  float64\n",
      " 9   MarkDown3     137091 non-null  float64\n",
      " 10  MarkDown4     134967 non-null  float64\n",
      " 11  MarkDown5     151432 non-null  float64\n",
      " 12  CPI           421570 non-null  float64\n",
      " 13  Unemployment  421570 non-null  float64\n",
      " 14  Type          421570 non-null  object \n",
      " 15  Size          421570 non-null  int64  \n",
      "dtypes: bool(1), float64(10), int64(3), object(2)\n",
      "memory usage: 51.9+ MB\n"
     ]
    }
   ],
   "source": [
    "df.info()"
   ]
  },
  {
   "cell_type": "code",
   "execution_count": 8,
   "id": "1af36e85",
   "metadata": {},
   "outputs": [
    {
     "name": "stdout",
     "output_type": "stream",
     "text": [
      "     Store  Dept  Weekly_Sales  Temperature  Fuel_Price  MarkDown1  MarkDown2  \\\n",
      "min    1.0   1.0      -4988.94        -2.06       2.472       0.27    -265.76   \n",
      "max   45.0  99.0     693099.36       100.14       4.468   88646.76  104519.54   \n",
      "\n",
      "     MarkDown3  MarkDown4  MarkDown5         CPI  Unemployment      Size  \n",
      "min     -29.10       0.22     135.16  126.064000         3.879   34875.0  \n",
      "max  141630.61   67474.85  108519.28  227.232807        14.313  219622.0  \n",
      "\n",
      "\t### CHECKING INTERQUANTILE RANGE\n",
      "Interquartile Range(IQR): \n",
      " 18126.2025\n",
      "\n",
      "\t ###SUMMARY ON WEEKLY SALES\n",
      "Average:\n",
      " 15981.258123467327\n",
      "\n",
      "median:\n",
      " 7612.03\n",
      "\n",
      "Mode:\n",
      " 10.0\n",
      "\n",
      "Percentiles:\n",
      " 25%     2079.6500\n",
      "50%     7612.0300\n",
      "75%    20205.8525\n",
      "Name: Weekly_Sales, dtype: float64\n",
      "\n",
      "Outlier Upper Threshold:\n",
      " 47395.15625\n"
     ]
    }
   ],
   "source": [
    "def calc_quantile(df):\n",
    "    # Calculate Q1, Q3 and IQR\n",
    "    q1 = df['Weekly_Sales'].quantile(0.25)\n",
    "    q3 = df['Weekly_Sales'].quantile(0.75)\n",
    "    iqr = q3-q1\n",
    "    print(\"\\n\\t### CHECKING INTERQUANTILE RANGE\")\n",
    "    \n",
    "    print (\"Interquartile Range(IQR): \\n\", iqr)\n",
    "    \n",
    "    return q1,iqr,q3\n",
    "\n",
    "def get_upper_threshold(df):\n",
    "    q1,iqr,q3 = calc_quantile(df)\n",
    "\n",
    "    upper_threshold= q3 + iqr*1.5\n",
    "    return upper_threshold\n",
    "\n",
    "def df_summarize(df):\n",
    "    # Use the describe() function to summarize data\n",
    "    summary = df.describe()\n",
    "\n",
    "    # Select the minimum and maximum rows\n",
    "    min_max_summary = summary.loc[['min', 'max']]\n",
    "\n",
    "    # Print the minimum and maximum summary\n",
    "    print(min_max_summary)\n",
    "    # Calculate average and mean\n",
    "    average = df['Weekly_Sales'].mean()\n",
    "    median = df['Weekly_Sales'].median()\n",
    "\n",
    "    # Calculate mode\n",
    "    mode = df['Weekly_Sales'].mode().iloc[0]\n",
    "\n",
    "    # Calculate percentiles (25th, 50th, and 75th percentiles)\n",
    "    percentiles = df['Weekly_Sales'].describe(percentiles=[0.25, 0.5, 0.75]).loc[['25%', '50%', '75%']]\n",
    "    \n",
    "    upper_threshold = get_upper_threshold(df)\n",
    "    \n",
    "\n",
    "    # Print the summary\n",
    "\n",
    "    print('\\n\\t ###SUMMARY ON WEEKLY SALES')\n",
    "    print(\"Average:\\n\", average)\n",
    "    print(\"\\nmedian:\\n\", median)\n",
    "    print(\"\\nMode:\\n\", mode)\n",
    "    print(\"\\nPercentiles:\\n\", percentiles)\n",
    "    \n",
    "\n",
    "    print(\"\\nOutlier Upper Threshold:\\n\", upper_threshold)\n",
    "    \n",
    "df_summarize(df)"
   ]
  },
  {
   "cell_type": "code",
   "execution_count": 20,
   "id": "98f62fd9",
   "metadata": {},
   "outputs": [
    {
     "data": {
      "image/png": "[encoded data removed]",
      "text/plain": [
       "<Figure size 432x288 with 1 Axes>"
      ]
     },
     "metadata": {
      "needs_background": "light"
     },
     "output_type": "display_data"
    }
   ],
   "source": [
    "# Calculate the histogram data\n",
    "hist, bins, _ = plt.hist(df['Weekly_Sales'], bins=10, range=(-5000, 700000), alpha=0)\n",
    "\n",
    "# Plot the line chart\n",
    "plt.plot(bins[:-1], hist)\n",
    "\n",
    "# Add labels and title\n",
    "plt.xlabel('Weekly_Sales')\n",
    "plt.ylabel('Frequency')\n",
    "plt.title('Histogram of Weekly Sales')\n",
    "\n",
    "\n",
    "# Display the histogram\n",
    "plt.show()"
   ]
  },
  {
   "cell_type": "code",
   "execution_count": 21,
   "id": "dc31bfab",
   "metadata": {},
   "outputs": [
    {
     "data": {
      "image/png": "[encoded data removed]",
      "text/plain": [
       "<Figure size 432x288 with 1 Axes>"
      ]
     },
     "metadata": {
      "needs_background": "light"
     },
     "output_type": "display_data"
    }
   ],
   "source": [
    "# Assuming 'positive_df' is your DataFrame\n",
    "\n",
    "# Generate descriptive statistics\n",
    "statistics = df.describe()\n",
    "\n",
    "# Create a box plot\n",
    "plt.boxplot(statistics.values)\n",
    "\n",
    "\n",
    "# Set the x-axis tick labels\n",
    "plt.xticks(range(1, len(statistics.columns) + 1), statistics.columns, rotation=90)\n",
    "\n",
    "# Add a title\n",
    "plt.title('Box Plot of Descriptive Statistics')\n",
    "\n",
    "# Display the plot\n",
    "plt.show()"
   ]
  },
  {
   "cell_type": "markdown",
   "id": "d3368b77",
   "metadata": {},
   "source": [
    "The interquartile range (IQR) is the range between the first quartile (Q1) and the third quartile (Q3) and represents the middle 50% of the data.\n",
    "The 50th percentile, also known as the median, represents the middle value of a dataset. It is not equivalent to the IQR."
   ]
  },
  {
   "cell_type": "markdown",
   "id": "47063dc6",
   "metadata": {},
   "source": [
    "## Data Cleaning"
   ]
  },
  {
   "cell_type": "code",
   "execution_count": 19,
   "id": "f19c6025",
   "metadata": {},
   "outputs": [
    {
     "name": "stdout",
     "output_type": "stream",
     "text": [
      "There are 1285 negative sales values in the data\n"
     ]
    }
   ],
   "source": [
    "# Removing the negative sales value\n",
    "# Filter rows with negative weekly sales\n",
    "negative_sales = df[df['Weekly_Sales'] < 0]\n",
    "\n",
    "# Print the filtered rows\n",
    "print(f'There are {negative_sales.shape[0]} negative sales values in the data')"
   ]
  },
  {
   "cell_type": "code",
   "execution_count": 6,
   "id": "f5557b11",
   "metadata": {},
   "outputs": [
    {
     "name": "stdout",
     "output_type": "stream",
     "text": [
      "There are 73 zero sales values in the data\n"
     ]
    }
   ],
   "source": [
    "# 0 sales values\n",
    "zero_sales = df[df['Weekly_Sales'] == 0]\n",
    "\n",
    "# Print the filtered rows\n",
    "print(f'There are {zero_sales.shape[0]} zero sales values in the data')"
   ]
  },
  {
   "cell_type": "code",
   "execution_count": 9,
   "id": "b9852a18",
   "metadata": {},
   "outputs": [
    {
     "name": "stdout",
     "output_type": "stream",
     "text": [
      "     Store  Dept  Weekly_Sales  Temperature  Fuel_Price  MarkDown1  MarkDown2  \\\n",
      "min    1.0   1.0          0.01        -2.06       2.472       0.27    -265.76   \n",
      "max   45.0  99.0     693099.36       100.14       4.468   88646.76  104519.54   \n",
      "\n",
      "     MarkDown3  MarkDown4  MarkDown5         CPI  Unemployment      Size  \n",
      "min     -29.10       0.22     135.16  126.064000         3.879   34875.0  \n",
      "max  141630.61   67474.85  108519.28  227.232807        14.313  219622.0  \n",
      "\n",
      "\t### CHECKING INTERQUANTILE RANGE\n",
      "Interquartile Range(IQR): \n",
      " 18151.135\n",
      "\n",
      "\t ###SUMMARY ON WEEKLY SALES\n",
      "Average:\n",
      " 16033.114591373213\n",
      "\n",
      "median:\n",
      " 7661.7\n",
      "\n",
      "Mode:\n",
      " 10.0\n",
      "\n",
      "Percentiles:\n",
      " 25%     2120.130\n",
      "50%     7661.700\n",
      "75%    20271.265\n",
      "Name: Weekly_Sales, dtype: float64\n",
      "\n",
      "Outlier Upper Threshold:\n",
      " 47497.9675\n"
     ]
    }
   ],
   "source": [
    "# Filter out positive weekly sales\n",
    "positive_df = df[df['Weekly_Sales'] > 0]\n",
    "\n",
    "df_summarize(positive_df)"
   ]
  },
  {
   "cell_type": "markdown",
   "id": "15195deb",
   "metadata": {},
   "source": [
    "## Feature Engineering"
   ]
  },
  {
   "cell_type": "code",
   "execution_count": 10,
   "id": "d8846d2e",
   "metadata": {},
   "outputs": [
    {
     "name": "stderr",
     "output_type": "stream",
     "text": [
      "/var/folders/5j/b5cpchnx2w57rt5gx7nvfntr0000gn/T/ipykernel_2526/313304848.py:4: SettingWithCopyWarning: \n",
      "A value is trying to be set on a copy of a slice from a DataFrame.\n",
      "Try using .loc[row_indexer,col_indexer] = value instead\n",
      "\n",
      "See the caveats in the documentation: https://pandas.pydata.org/pandas-docs/stable/user_guide/indexing.html#returning-a-view-versus-a-copy\n",
      "  positive_df['Date'] = pd.to_datetime(positive_df['Date'])\n",
      "/var/folders/5j/b5cpchnx2w57rt5gx7nvfntr0000gn/T/ipykernel_2526/313304848.py:5: SettingWithCopyWarning: \n",
      "A value is trying to be set on a copy of a slice from a DataFrame.\n",
      "Try using .loc[row_indexer,col_indexer] = value instead\n",
      "\n",
      "See the caveats in the documentation: https://pandas.pydata.org/pandas-docs/stable/user_guide/indexing.html#returning-a-view-versus-a-copy\n",
      "  positive_df['Year'] = positive_df['Date'].dt.year\n",
      "/var/folders/5j/b5cpchnx2w57rt5gx7nvfntr0000gn/T/ipykernel_2526/313304848.py:6: FutureWarning: Series.dt.weekofyear and Series.dt.week have been deprecated. Please use Series.dt.isocalendar().week instead.\n",
      "  positive_df['Week'] = positive_df['Date'].dt.week\n",
      "/var/folders/5j/b5cpchnx2w57rt5gx7nvfntr0000gn/T/ipykernel_2526/313304848.py:6: SettingWithCopyWarning: \n",
      "A value is trying to be set on a copy of a slice from a DataFrame.\n",
      "Try using .loc[row_indexer,col_indexer] = value instead\n",
      "\n",
      "See the caveats in the documentation: https://pandas.pydata.org/pandas-docs/stable/user_guide/indexing.html#returning-a-view-versus-a-copy\n",
      "  positive_df['Week'] = positive_df['Date'].dt.week\n",
      "/var/folders/5j/b5cpchnx2w57rt5gx7nvfntr0000gn/T/ipykernel_2526/313304848.py:7: SettingWithCopyWarning: \n",
      "A value is trying to be set on a copy of a slice from a DataFrame.\n",
      "Try using .loc[row_indexer,col_indexer] = value instead\n",
      "\n",
      "See the caveats in the documentation: https://pandas.pydata.org/pandas-docs/stable/user_guide/indexing.html#returning-a-view-versus-a-copy\n",
      "  positive_df['Week_Sales_KUSD'] = round(positive_df['Weekly_Sales']/1000,0)\n"
     ]
    },
    {
     "data": {
      "text/html": [
       "<div>\n",
       "<style scoped>\n",
       "    .dataframe tbody tr th:only-of-type {\n",
       "        vertical-align: middle;\n",
       "    }\n",
       "\n",
       "    .dataframe tbody tr th {\n",
       "        vertical-align: top;\n",
       "    }\n",
       "\n",
       "    .dataframe thead th {\n",
       "        text-align: right;\n",
       "    }\n",
       "</style>\n",
       "<table border=\"1\" class=\"dataframe\">\n",
       "  <thead>\n",
       "    <tr style=\"text-align: right;\">\n",
       "      <th></th>\n",
       "      <th>Store</th>\n",
       "      <th>Dept</th>\n",
       "      <th>Date</th>\n",
       "      <th>Weekly_Sales</th>\n",
       "      <th>IsHoliday</th>\n",
       "      <th>Temperature</th>\n",
       "      <th>Fuel_Price</th>\n",
       "      <th>MarkDown1</th>\n",
       "      <th>MarkDown2</th>\n",
       "      <th>MarkDown3</th>\n",
       "      <th>MarkDown4</th>\n",
       "      <th>MarkDown5</th>\n",
       "      <th>CPI</th>\n",
       "      <th>Unemployment</th>\n",
       "      <th>Type</th>\n",
       "      <th>Size</th>\n",
       "      <th>Year</th>\n",
       "      <th>Week</th>\n",
       "      <th>Week_Sales_KUSD</th>\n",
       "    </tr>\n",
       "  </thead>\n",
       "  <tbody>\n",
       "    <tr>\n",
       "      <th>0</th>\n",
       "      <td>1</td>\n",
       "      <td>1</td>\n",
       "      <td>2010-02-05</td>\n",
       "      <td>24924.50</td>\n",
       "      <td>False</td>\n",
       "      <td>42.31</td>\n",
       "      <td>2.572</td>\n",
       "      <td>NaN</td>\n",
       "      <td>NaN</td>\n",
       "      <td>NaN</td>\n",
       "      <td>NaN</td>\n",
       "      <td>NaN</td>\n",
       "      <td>211.096358</td>\n",
       "      <td>8.106</td>\n",
       "      <td>A</td>\n",
       "      <td>151315</td>\n",
       "      <td>2010</td>\n",
       "      <td>5</td>\n",
       "      <td>25.0</td>\n",
       "    </tr>\n",
       "    <tr>\n",
       "      <th>1</th>\n",
       "      <td>1</td>\n",
       "      <td>2</td>\n",
       "      <td>2010-02-05</td>\n",
       "      <td>50605.27</td>\n",
       "      <td>False</td>\n",
       "      <td>42.31</td>\n",
       "      <td>2.572</td>\n",
       "      <td>NaN</td>\n",
       "      <td>NaN</td>\n",
       "      <td>NaN</td>\n",
       "      <td>NaN</td>\n",
       "      <td>NaN</td>\n",
       "      <td>211.096358</td>\n",
       "      <td>8.106</td>\n",
       "      <td>A</td>\n",
       "      <td>151315</td>\n",
       "      <td>2010</td>\n",
       "      <td>5</td>\n",
       "      <td>51.0</td>\n",
       "    </tr>\n",
       "    <tr>\n",
       "      <th>2</th>\n",
       "      <td>1</td>\n",
       "      <td>3</td>\n",
       "      <td>2010-02-05</td>\n",
       "      <td>13740.12</td>\n",
       "      <td>False</td>\n",
       "      <td>42.31</td>\n",
       "      <td>2.572</td>\n",
       "      <td>NaN</td>\n",
       "      <td>NaN</td>\n",
       "      <td>NaN</td>\n",
       "      <td>NaN</td>\n",
       "      <td>NaN</td>\n",
       "      <td>211.096358</td>\n",
       "      <td>8.106</td>\n",
       "      <td>A</td>\n",
       "      <td>151315</td>\n",
       "      <td>2010</td>\n",
       "      <td>5</td>\n",
       "      <td>14.0</td>\n",
       "    </tr>\n",
       "    <tr>\n",
       "      <th>3</th>\n",
       "      <td>1</td>\n",
       "      <td>4</td>\n",
       "      <td>2010-02-05</td>\n",
       "      <td>39954.04</td>\n",
       "      <td>False</td>\n",
       "      <td>42.31</td>\n",
       "      <td>2.572</td>\n",
       "      <td>NaN</td>\n",
       "      <td>NaN</td>\n",
       "      <td>NaN</td>\n",
       "      <td>NaN</td>\n",
       "      <td>NaN</td>\n",
       "      <td>211.096358</td>\n",
       "      <td>8.106</td>\n",
       "      <td>A</td>\n",
       "      <td>151315</td>\n",
       "      <td>2010</td>\n",
       "      <td>5</td>\n",
       "      <td>40.0</td>\n",
       "    </tr>\n",
       "    <tr>\n",
       "      <th>4</th>\n",
       "      <td>1</td>\n",
       "      <td>5</td>\n",
       "      <td>2010-02-05</td>\n",
       "      <td>32229.38</td>\n",
       "      <td>False</td>\n",
       "      <td>42.31</td>\n",
       "      <td>2.572</td>\n",
       "      <td>NaN</td>\n",
       "      <td>NaN</td>\n",
       "      <td>NaN</td>\n",
       "      <td>NaN</td>\n",
       "      <td>NaN</td>\n",
       "      <td>211.096358</td>\n",
       "      <td>8.106</td>\n",
       "      <td>A</td>\n",
       "      <td>151315</td>\n",
       "      <td>2010</td>\n",
       "      <td>5</td>\n",
       "      <td>32.0</td>\n",
       "    </tr>\n",
       "  </tbody>\n",
       "</table>\n",
       "</div>"
      ],
      "text/plain": [
       "   Store  Dept       Date  Weekly_Sales  IsHoliday  Temperature  Fuel_Price  \\\n",
       "0      1     1 2010-02-05      24924.50      False        42.31       2.572   \n",
       "1      1     2 2010-02-05      50605.27      False        42.31       2.572   \n",
       "2      1     3 2010-02-05      13740.12      False        42.31       2.572   \n",
       "3      1     4 2010-02-05      39954.04      False        42.31       2.572   \n",
       "4      1     5 2010-02-05      32229.38      False        42.31       2.572   \n",
       "\n",
       "   MarkDown1  MarkDown2  MarkDown3  MarkDown4  MarkDown5         CPI  \\\n",
       "0        NaN        NaN        NaN        NaN        NaN  211.096358   \n",
       "1        NaN        NaN        NaN        NaN        NaN  211.096358   \n",
       "2        NaN        NaN        NaN        NaN        NaN  211.096358   \n",
       "3        NaN        NaN        NaN        NaN        NaN  211.096358   \n",
       "4        NaN        NaN        NaN        NaN        NaN  211.096358   \n",
       "\n",
       "   Unemployment Type    Size  Year  Week  Week_Sales_KUSD  \n",
       "0         8.106    A  151315  2010     5             25.0  \n",
       "1         8.106    A  151315  2010     5             51.0  \n",
       "2         8.106    A  151315  2010     5             14.0  \n",
       "3         8.106    A  151315  2010     5             40.0  \n",
       "4         8.106    A  151315  2010     5             32.0  "
      ]
     },
     "execution_count": 10,
     "metadata": {},
     "output_type": "execute_result"
    }
   ],
   "source": [
    "#Create Week No. and Year from 'Date' column\n",
    "\n",
    "# Convert the 'Date' column to a datetime object\n",
    "positive_df['Date'] = pd.to_datetime(positive_df['Date'])\n",
    "positive_df['Year'] = positive_df['Date'].dt.year\n",
    "positive_df['Week'] = positive_df['Date'].dt.week\n",
    "positive_df['Week_Sales_KUSD'] = round(positive_df['Weekly_Sales']/1000,0)\n",
    "\n",
    "positive_df.head()"
   ]
  },
  {
   "cell_type": "markdown",
   "id": "41deeec2",
   "metadata": {},
   "source": [
    "# Exploratory Data Analysis"
   ]
  },
  {
   "cell_type": "markdown",
   "id": "c8c49c00",
   "metadata": {},
   "source": [
    "Weekly Sales is higher (reaching 700k) when it is holiday. In normal  days, max are > 400k."
   ]
  },
  {
   "cell_type": "code",
   "execution_count": 36,
   "id": "3f1c284b",
   "metadata": {},
   "outputs": [
    {
     "data": {
      "image/png": "[encoded data removed]",
      "text/plain": [
       "<Figure size 720x432 with 1 Axes>"
      ]
     },
     "metadata": {
      "needs_background": "light"
     },
     "output_type": "display_data"
    }
   ],
   "source": [
    "# Group the data by year and week, and calculate the total weekly sales\n",
    "weekly_sales = positive_df.groupby(['Year', 'Week'])['Week_Sales_KUSD'].sum().reset_index()\n",
    "\n",
    "\n",
    "# Create a scatter plot of the weekly sales\n",
    "plt.figure(figsize=(10, 6))\n",
    "plt.scatter(weekly_sales.index, weekly_sales['Week_Sales_KUSD'], marker='o', s=10)\n",
    "\n",
    "# Set the x-axis tick labels as year and week number\n",
    "plt.xticks(weekly_sales.index, weekly_sales['Year'].astype(str) + '-' + weekly_sales['Week'].astype(str), rotation=45)\n",
    "\n",
    "# Set the x-axis tick labels as year and week number\n",
    "# Set the x-axis tick spacing to show a gap of 10 weeks\n",
    "xticks = weekly_sales.index[::10]  # Select every 10th index\n",
    "xticklabels = weekly_sales.loc[xticks, 'Year'].astype(str) + '- W' + weekly_sales.loc[xticks, 'Week'].astype(str)\n",
    "plt.xticks(xticks, xticklabels, rotation=45)\n",
    "\n",
    "# Set the labels and title\n",
    "plt.xlabel('Year-Week')\n",
    "plt.ylabel('Week_Sales_KUSD')\n",
    "plt.title('Weekly Sales over Time')\n",
    "\n",
    "# Show the plot\n",
    "plt.show()\n"
   ]
  },
  {
   "cell_type": "markdown",
   "id": "f405c5b4",
   "metadata": {},
   "source": [
    "## Dealing with Outliers\n",
    "\n",
    "### Idea #1 - Winsorize with Interquantile Range"
   ]
  },
  {
   "cell_type": "code",
   "execution_count": 30,
   "id": "d7b7be00",
   "metadata": {},
   "outputs": [
    {
     "name": "stdout",
     "output_type": "stream",
     "text": [
      "\n",
      "\t### CHECKING INTERQUANTILE RANGE\n",
      "Interquartile Range(IQR): \n",
      " 18126.2025\n",
      "     Store  Dept  Weekly_Sales  Temperature  Fuel_Price  MarkDown1  MarkDown2  \\\n",
      "min    1.0   1.0          0.01        -2.06       2.472       0.27    -265.76   \n",
      "max   45.0  99.0      47393.43       100.14       4.468   88646.76  104519.54   \n",
      "\n",
      "     MarkDown3  MarkDown4  MarkDown5         CPI  Unemployment      Size  \n",
      "min     -29.10       0.22     135.16  126.064000         3.879   34875.0  \n",
      "max  141630.61   67474.85  108519.28  227.232807        14.313  219622.0  \n",
      "\n",
      "\t### CHECKING INTERQUANTILE RANGE\n",
      "Interquartile Range(IQR): \n",
      " 14057.605\n",
      "\n",
      "\t ###SUMMARY ON WEEKLY SALES\n",
      "Average:\n",
      " 10581.85527810671\n",
      "\n",
      "median:\n",
      " 6417.72\n",
      "\n",
      "Mode:\n",
      " 10.0\n",
      "\n",
      "Percentiles:\n",
      " 25%     1792.675\n",
      "50%     6417.720\n",
      "75%    15850.280\n",
      "Name: Weekly_Sales, dtype: float64\n",
      "\n",
      "Outlier Upper Threshold:\n",
      " 36936.6875\n"
     ]
    }
   ],
   "source": [
    "upper_threshold = get_upper_threshold(df)\n",
    "\n",
    "cleaned_df = df[df['Weekly_Sales'] > 0]\n",
    "outlier_removed = cleaned_df[cleaned_df['Weekly_Sales'] < upper_threshold]\n",
    "\n",
    "df_summarize(outlier_removed)"
   ]
  },
  {
   "cell_type": "code",
   "execution_count": 24,
   "id": "1d8797f0",
   "metadata": {},
   "outputs": [
    {
     "name": "stdout",
     "output_type": "stream",
     "text": [
      "\n",
      "\t### CHECKING INTERQUANTILE RANGE\n",
      "Interquartile Range(IQR): \n",
      " 18126.2025\n"
     ]
    }
   ],
   "source": [
    "# Calculate the threshold value\n",
    "q1,iqr,q3 = calc_quantile(df_train)\n",
    "threshold = q3 + 1.5 * iqr"
   ]
  },
  {
   "cell_type": "code",
   "execution_count": 25,
   "id": "96bd85b8",
   "metadata": {},
   "outputs": [
    {
     "name": "stderr",
     "output_type": "stream",
     "text": [
      "/var/folders/5j/b5cpchnx2w57rt5gx7nvfntr0000gn/T/ipykernel_2526/687924684.py:4: SettingWithCopyWarning: \n",
      "A value is trying to be set on a copy of a slice from a DataFrame.\n",
      "Try using .loc[row_indexer,col_indexer] = value instead\n",
      "\n",
      "See the caveats in the documentation: https://pandas.pydata.org/pandas-docs/stable/user_guide/indexing.html#returning-a-view-versus-a-copy\n",
      "  df_train[x_axis] = pd.to_datetime(df_train[x_axis])\n"
     ]
    },
    {
     "data": {
      "image/png": "[encoded data removed]",
      "text/plain": [
       "<Figure size 720x432 with 1 Axes>"
      ]
     },
     "metadata": {
      "needs_background": "light"
     },
     "output_type": "display_data"
    }
   ],
   "source": [
    "\n",
    "def plot_sales(df_train, x_axis ='Date', y_axis='Weekly_Sales', \n",
    "               color =['IsHoliday','Not Holiday'], \n",
    "               hline1 = threshold, hline1_label = '1.5 * IQR + Q3',\n",
    "              hline2 = None, hline2_label = 'upper Norm',\n",
    "              hline3 = None, hline3_label = 'upper Norm'):\n",
    "    #line chart of weekly sales from train dataset\n",
    "    # Convert 'date' column to datetime type\n",
    "    df_train[x_axis] = pd.to_datetime(df_train[x_axis])\n",
    "\n",
    "    # Sort the DataFrame by 'date' column\n",
    "    df_train = df_train.sort_values(x_axis)\n",
    "\n",
    "    \n",
    "   \n",
    "\n",
    "    # Create a scatter chart with Holiday marked as red\n",
    "    plt.figure(figsize=(10, 6))\n",
    "    plt.scatter(df_train[x_axis], df_train[y_axis], marker='o', s=10,\n",
    "                c=np.where(df_train[color[0]], 'red', 'blue'), label=color[1])\n",
    "\n",
    "\n",
    "    \n",
    "    # Draw a horizontal line on the plot for Interquantile\n",
    "    plt.axhline(hline1, color='red', linestyle='--', linewidth=2, label=hline1_label)\n",
    "    # Draw 2 horizontal line on the plot for Normalization\n",
    "    plt.axhline(hline2, color='yellow', linestyle='-', linewidth=2, label=hline2_label)\n",
    "    plt.axhline(hline3, color='yellow', linestyle='-', linewidth=2, label=hline3_label)\n",
    "\n",
    "    plt.title(y_axis + ' By ' + x_axis)\n",
    "    plt.xlabel(x_axis)\n",
    "    plt.ylabel(y_axis)\n",
    "    plt.xticks(rotation=45)\n",
    "    # Add legend\n",
    "    plt.legend()\n",
    "    plt.show()\n",
    "\n",
    "\n",
    "plot_sales(positive_df)"
   ]
  },
  {
   "cell_type": "markdown",
   "id": "6fdf8d4f",
   "metadata": {},
   "source": [
    "## Idea #2 - Normalization with Standard Deviation"
   ]
  },
  {
   "cell_type": "code",
   "execution_count": 23,
   "id": "3d0c951b",
   "metadata": {},
   "outputs": [
    {
     "data": {
      "text/plain": [
       "(-36843.591070650225, 68909.82025339665)"
      ]
     },
     "execution_count": 23,
     "metadata": {},
     "output_type": "execute_result"
    }
   ],
   "source": [
    "m = positive_df['Weekly_Sales'].mean()\n",
    "s = positive_df['Weekly_Sales'].std()\n",
    "\n",
    "from scipy.stats import norm\n",
    "limit_high = norm.ppf(0.99,m,s)\n",
    "limit_low = norm.ppf(0.01,m,s)\n",
    "\n",
    "limit_low, limit_high"
   ]
  },
  {
   "cell_type": "markdown",
   "id": "018a5d6e",
   "metadata": {},
   "source": [
    "# Time Series Assumption"
   ]
  },
  {
   "cell_type": "markdown",
   "id": "73e61bd3",
   "metadata": {},
   "source": [
    "### 1. Stationary\n",
    "Most statistical models for time series assume that the data is stationary, so it is important to test for stationarity and make any necessary transformations to stabilize the statistical properties of the data. Meaning:\n",
    "- `Mean` is constant\n",
    "- `Variance` is constant\n",
    "- No seasonality\n",
    "\n",
    "Method to deal with: <strong>Dickey Fuller </strong>test for unit root \n"
   ]
  },
  {
   "cell_type": "markdown",
   "id": "0df52064",
   "metadata": {},
   "source": [
    "## KPI to measure performance of the model of time series"
   ]
  },
  {
   "cell_type": "code",
   "execution_count": null,
   "id": "93b8aee2",
   "metadata": {},
   "outputs": [],
   "source": [
    " def kpi_ML(Y_train, Y_train_pred, Y_test, Y_test_pred, name=''):\n",
    "     df = pd.DataFrame(columns = ['MAE','RMSE','Bias'],index=['Train', 'Test'])\n",
    "     df.index.name = name\n",
    "     df.loc['Train','MAE'] = 100*np.mean(abs(Y_train -  Y_train_pred))/np.mean(Y_train)\n",
    "     df.loc['Train','RMSE'] = 100*np.sqrt(np.mean((Y_train - Y_train_pred)**2))/np.mean(Y_train)\n",
    "     df.loc['Train','Bias'] = 100*np.mean((Y_train - Y_train_pred))/np.mean(Y_train)\n",
    "     df.loc['Test','MAE'] = 100*np.mean(abs(Y_test - Y_test_pred))/np.mean(Y_test)\n",
    "     df.loc['Test','RMSE'] = 100*np.sqrt(np.mean((Y_test - Y_test_pred)**2))/np.mean(Y_test)\n",
    "     df.loc['Test','Bias'] = 100*np.mean((Y_test - Y_test_pred))/np .mean(Y_test)\n",
    "     df = df.astype(float).round(1) #Round number for display\n",
    "     print(df)"
   ]
  },
  {
   "cell_type": "markdown",
   "id": "fcc998e7",
   "metadata": {},
   "source": [
    "# Modeling"
   ]
  },
  {
   "cell_type": "code",
   "execution_count": null,
   "id": "335e44f9",
   "metadata": {},
   "outputs": [],
   "source": []
  }
 ],
 "metadata": {
  "kernelspec": {
   "display_name": "Python 3 (ipykernel)",
   "language": "python",
   "name": "python3"
  },
  "language_info": {
   "codemirror_mode": {
    "name": "ipython",
    "version": 3
   },
   "file_extension": ".py",
   "mimetype": "text/x-python",
   "name": "python",
   "nbconvert_exporter": "python",
   "pygments_lexer": "ipython3",
   "version": "3.9.12"
  }
 },
 "nbformat": 4,
 "nbformat_minor": 5
}
